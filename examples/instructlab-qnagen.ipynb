{
 "cells": [
  {
   "cell_type": "code",
   "execution_count": 1,
   "id": "78d52cfe-70b3-4d93-8fc2-f28366e2bde2",
   "metadata": {},
   "outputs": [],
   "source": [
    "from docling_sdg.qa.generate import Generator\n",
    "from docling_sdg.qa.base import GenerateOptions"
   ]
  },
  {
   "cell_type": "code",
   "execution_count": 18,
   "id": "932873ed-25c1-482a-bf3b-a75b804aae4b",
   "metadata": {},
   "outputs": [],
   "source": [
    "generate_options = GenerateOptions(api_key=\"fake\", project_id=\"project_id\")\n",
    "generate_options.api_key = \"fake\"\n",
    "generate_options.model_id = \"mixtral\"\n",
    "gen = Generator(generate_options=generate_options)"
   ]
  },
  {
   "cell_type": "code",
   "execution_count": 20,
   "id": "9ad9e029-10c9-452a-871e-f69e5b845b53",
   "metadata": {},
   "outputs": [
    {
     "name": "stderr",
     "output_type": "stream",
     "text": [
      "100%|██████████████████████████████████████████████████████████████████████████████████████████████████████████████████████████████████████████████████████████████████████████████| 1/1 [00:00<00:00, 14463.12it/s]"
     ]
    },
    {
     "name": "stdout",
     "output_type": "stream",
     "text": [
      "status=<Status.SUCCESS: 'success'> time_taken=0.0036449432373046875 output=PosixPath('docling_sdg_generated_qac.jsonl') num_qac=0\n"
     ]
    },
    {
     "name": "stderr",
     "output_type": "stream",
     "text": [
      "\n"
     ]
    },
    {
     "ename": "NameError",
     "evalue": "name 'docling_sdg_generated_qac' is not defined",
     "output_type": "error",
     "traceback": [
      "\u001b[31m---------------------------------------------------------------------------\u001b[39m",
      "\u001b[31mNameError\u001b[39m                                 Traceback (most recent call last)",
      "\u001b[36mCell\u001b[39m\u001b[36m \u001b[39m\u001b[32mIn[20]\u001b[39m\u001b[32m, line 14\u001b[39m\n\u001b[32m     10\u001b[39m chunk = QaChunk(meta={\u001b[33m\"\u001b[39m\u001b[33mdoc_items\u001b[39m\u001b[33m\"\u001b[39m: [{\u001b[33m\"\u001b[39m\u001b[33mself_ref\u001b[39m\u001b[33m\"\u001b[39m:\u001b[33m\"\u001b[39m\u001b[33m#/CfL\u001b[39m\u001b[33m\"\u001b[39m,\u001b[33m\"\u001b[39m\u001b[33mlabel\u001b[39m\u001b[33m\"\u001b[39m: \u001b[33m\"\u001b[39m\u001b[33mtext\u001b[39m\u001b[33m\"\u001b[39m}], \u001b[33m\"\u001b[39m\u001b[33mchunk_id\u001b[39m\u001b[33m\"\u001b[39m: \u001b[33m\"\u001b[39m\u001b[33m\"\u001b[39m,\u001b[33m\"\u001b[39m\u001b[33mdoc_id\u001b[39m\u001b[33m\"\u001b[39m: \u001b[33m\"\u001b[39m\u001b[33m\"\u001b[39m}, text=\u001b[33m\"\u001b[39m\u001b[33mGeorge Washington (February 22, 1732 [O.S. February 11, 1731][a] – December 14, 1799) was a Founding Father and the first president of the United States, serving from 1789 to 1797. As commander of the Continental Army, Washington led Patriot forces to victory in the American Revolutionary War against the British Empire. He is commonly known as the Father of His Country for his role in bringing about American independence.\u001b[39m\u001b[33m\"\u001b[39m)\n\u001b[32m     12\u001b[39m \u001b[38;5;28mprint\u001b[39m(gen.generate_from_chunks([chunk]))\n\u001b[32m---> \u001b[39m\u001b[32m14\u001b[39m \u001b[38;5;28;01mwith\u001b[39;00m \u001b[38;5;28mopen\u001b[39m(\u001b[43mdocling_sdg_generated_qac\u001b[49m.jsonl, \u001b[33m\"\u001b[39m\u001b[33mrt\u001b[39m\u001b[33m\"\u001b[39m) \u001b[38;5;28;01mas\u001b[39;00m f:\n\u001b[32m     15\u001b[39m     \u001b[38;5;28mprint\u001b[39m(f.readlines())\n",
      "\u001b[31mNameError\u001b[39m: name 'docling_sdg_generated_qac' is not defined"
     ]
    }
   ],
   "source": [
    "from docling_sdg.qa.base import initialize_llm\n",
    "\n",
    "llm = initialize_llm(generate_options)\n",
    "\n",
    "from docling_sdg.qa.utils import ChatAgent\n",
    "\n",
    "agent = ChatAgent(llm=llm)\n",
    "\n",
    "from docling_sdg.qa.base import QaChunk\n",
    "chunk = QaChunk(meta={\"doc_items\": [{\"self_ref\":\"#/CfL\",\"label\": \"text\"}], \"chunk_id\": \"\",\"doc_id\": \"\"}, text=\"George Washington (February 22, 1732 [O.S. February 11, 1731][a] – December 14, 1799) was a Founding Father and the first president of the United States, serving from 1789 to 1797. As commander of the Continental Army, Washington led Patriot forces to victory in the American Revolutionary War against the British Empire. He is commonly known as the Father of His Country for his role in bringing about American independence.\")\n",
    "\n",
    "gen.generate_from_chunks([chunk])"
   ]
  },
  {
   "cell_type": "code",
   "execution_count": 21,
   "id": "65d4f6ff-83a2-4bea-958f-290f3ddbd08a",
   "metadata": {},
   "outputs": [
    {
     "name": "stdout",
     "output_type": "stream",
     "text": [
      "['{\"context\": \"George Washington (February 22, 1732 [O.S. February 11, 1731][a] – December 14, 1799) was a Founding Father and the first president of the United States, serving from 1789 to 1797. As commander of the Continental Army, Washington led Patriot forces to victory in the American Revolutionary War against the British Empire. He is commonly known as the Father of His Country for his role in bringing about American independence.\", \"question\": \"What was George Washington\\'s role before becoming the first president of the United States?\", \"answer\": \"George Washington was a Founding Father and the commander of the Continental Army, leading Patriot forces to victory in the American Revolutionary War against the British Empire.\", \"short_answer\": null, \"retrieved_context\": false, \"generated_question\": true, \"generated_answer\": true, \"created\": \"2025-03-24T18:09:33.706032+00:00\", \"user\": null, \"model\": \"mixtral\", \"paths\": [\"\"], \"advanced\": null, \"labels\": {\"scope\": null, \"alignment\": null, \"correctness\": null, \"completeness\": null, \"information\": \"fact_single\"}, \"doc_id\": \"\", \"chunk_id\": \"\", \"qac_id\": \"da5a62d5775180faf61a2bb12c4b04694483c407defb4c82e6f493cc205d20f3\", \"critiques\": {}}\\n', '{\"context\": \"George Washington (February 22, 1732 [O.S. February 11, 1731][a] – December 14, 1799) was a Founding Father and the first president of the United States, serving from 1789 to 1797. As commander of the Continental Army, Washington led Patriot forces to victory in the American Revolutionary War against the British Empire. He is commonly known as the Father of His Country for his role in bringing about American independence.\", \"question\": \"What can be inferred about George Washington\\'s contribution to the independence of the United States?\", \"answer\": \"George Washington played a significant role in bringing about American independence through his military leadership as commander of the Continental Army during the American Revolutionary War.\", \"short_answer\": null, \"retrieved_context\": false, \"generated_question\": true, \"generated_answer\": true, \"created\": \"2025-03-24T18:09:33.706940+00:00\", \"user\": null, \"model\": \"mixtral\", \"paths\": [\"\"], \"advanced\": null, \"labels\": {\"scope\": null, \"alignment\": null, \"correctness\": null, \"completeness\": null, \"information\": \"summary\"}, \"doc_id\": \"\", \"chunk_id\": \"\", \"qac_id\": \"0423dbfe665960857b853912e630828dcfff0bd58952acbfbb401dc4cfb12a72\", \"critiques\": {}}\\n']\n"
     ]
    }
   ],
   "source": [
    "with open(\"docling_sdg_generated_qac.jsonl\", \"rt\") as f:\n",
    "    print(f.readlines())"
   ]
  }
 ],
 "metadata": {
  "kernelspec": {
   "display_name": "Python 3 (ipykernel)",
   "language": "python",
   "name": "python3"
  },
  "language_info": {
   "codemirror_mode": {
    "name": "ipython",
    "version": 3
   },
   "file_extension": ".py",
   "mimetype": "text/x-python",
   "name": "python",
   "nbconvert_exporter": "python",
   "pygments_lexer": "ipython3",
   "version": "3.11.9"
  }
 },
 "nbformat": 4,
 "nbformat_minor": 5
}
